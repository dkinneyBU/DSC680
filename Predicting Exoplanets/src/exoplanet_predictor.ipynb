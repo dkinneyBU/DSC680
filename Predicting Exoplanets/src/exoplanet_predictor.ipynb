{
 "cells": [
  {
   "cell_type": "markdown",
   "metadata": {},
   "source": [
    "### Project 1 - Predicting Exoplanets  \n",
    "\n",
    "#### David Kinney - DSS 680 - Spring 2021 - Professor Catherine Williams"
   ]
  },
  {
   "cell_type": "code",
   "execution_count": 1,
   "metadata": {},
   "outputs": [],
   "source": [
    "# %% Import libraries\n",
    "from datetime import datetime\n",
    "\n",
    "import matplotlib.pyplot as plt\n",
    "from matplotlib import rcParams\n",
    "import numpy as np\n",
    "import seaborn as sns\n",
    "import pandas as pd\n",
    "from pandas_profiling import ProfileReport\n",
    "from sklearn.impute import SimpleImputer\n",
    "from sklearn.preprocessing import StandardScaler, LabelEncoder\n",
    "from sklearn.decomposition import PCA\n",
    "from sklearn.model_selection import train_test_split, \\\n",
    "                                    cross_val_score, \\\n",
    "                                    cross_val_predict\n",
    "from sklearn.ensemble import RandomForestClassifier\n",
    "from sklearn.model_selection import GridSearchCV, RandomizedSearchCV\n",
    "from sklearn.metrics import confusion_matrix, \\\n",
    "                                    accuracy_score, \\\n",
    "                                    precision_score, \\\n",
    "                                    recall_score, \\\n",
    "                                    classification_report\n",
    "from tpot import TPOTClassifier"
   ]
  },
  {
   "cell_type": "code",
   "execution_count": 2,
   "metadata": {},
   "outputs": [],
   "source": [
    "pd.set_option('display.max_rows', None)\n",
    "pd.set_option('display.max_columns', None)"
   ]
  },
  {
   "cell_type": "code",
   "execution_count": 3,
   "metadata": {},
   "outputs": [],
   "source": [
    "# function definitions\n",
    "\n",
    "def pca(df):\n",
    "    \n",
    "    # standardize the features matrix\n",
    "    features = StandardScaler().fit_transform(df)\n",
    "    \n",
    "    # Create a PCA that retains 99% of the variance\n",
    "    pca = PCA(n_components = 0.95)\n",
    "    features_pca = pca.fit_transform(features)\n",
    "    \n",
    "    return features, features_pca\n",
    "\n",
    "\n",
    "def plot_cm(cm):\n",
    "    # plot confusion matrix\n",
    "    fig, ax = plt.subplots(figsize = (10,8))\n",
    "    \n",
    "    sns.heatmap(conf_matrix_rf/np.sum(conf_matrix_rf), annot=True, \n",
    "                fmt='.2%', cmap='Blues', annot_kws={'size':15})\n",
    "    \n",
    "    ax.set_title('Random Forest Confusion Matrix', fontsize = 18, loc='left')\n",
    "    \n",
    "    ax.set_xticklabels(ax.get_xmajorticklabels(), fontsize = 12)\n",
    "    ax.set_yticklabels(ax.get_ymajorticklabels(), fontsize = 12)\n",
    "    \n",
    "    plt.show()"
   ]
  },
  {
   "cell_type": "code",
   "execution_count": 4,
   "metadata": {
    "scrolled": true,
    "tags": []
   },
   "outputs": [
    {
     "name": "stdout",
     "output_type": "stream",
     "text": [
      "(9564, 141)\n",
      "                                                                    1\n",
      "rowid                                                               2\n",
      "kepid                                                        10797460\n",
      "kepoi_name                                                  K00752.02\n",
      "kepler_name                                              Kepler-227 c\n",
      "koi_disposition                                             CONFIRMED\n",
      "koi_vet_stat                                                     Done\n",
      "koi_vet_date                                                8/16/2018\n",
      "koi_pdisposition                                            CANDIDATE\n",
      "koi_score                                                       0.969\n",
      "koi_fpflag_nt                                                       0\n",
      "koi_fpflag_ss                                                       0\n",
      "koi_fpflag_co                                                       0\n",
      "koi_fpflag_ec                                                       0\n",
      "koi_disp_prov                                     q1_q17_dr25_sup_koi\n",
      "koi_comment                                                NO_COMMENT\n",
      "koi_period                                                  54.418383\n",
      "koi_period_err1                                              0.000248\n",
      "koi_period_err2                                             -0.000248\n",
      "koi_time0bk                                                 162.51384\n",
      "koi_time0bk_err1                                              0.00352\n",
      "koi_time0bk_err2                                             -0.00352\n",
      "koi_time0                                                 2454995.514\n",
      "koi_time0_err1                                                0.00352\n",
      "koi_time0_err2                                               -0.00352\n",
      "koi_eccen                                                         0.0\n",
      "koi_eccen_err1                                                    NaN\n",
      "koi_eccen_err2                                                    NaN\n",
      "koi_longp                                                         NaN\n",
      "koi_longp_err1                                                    NaN\n",
      "koi_longp_err2                                                    NaN\n",
      "koi_impact                                                      0.586\n",
      "koi_impact_err1                                                 0.059\n",
      "koi_impact_err2                                                -0.443\n",
      "koi_duration                                                    4.507\n",
      "koi_duration_err1                                               0.116\n",
      "koi_duration_err2                                              -0.116\n",
      "koi_ingress                                                       NaN\n",
      "koi_ingress_err1                                                  NaN\n",
      "koi_ingress_err2                                                  NaN\n",
      "koi_depth                                                       875.0\n",
      "koi_depth_err1                                                   35.5\n",
      "koi_depth_err2                                                  -35.5\n",
      "koi_ror                                                      0.027954\n",
      "koi_ror_err1                                                  0.00908\n",
      "koi_ror_err2                                                 -0.00135\n",
      "koi_srho                                                      3.02368\n",
      "koi_srho_err1                                                 2.20489\n",
      "koi_srho_err2                                                -2.49638\n",
      "koi_fittype                                                   LS+MCMC\n",
      "koi_prad                                                         2.83\n",
      "koi_prad_err1                                                    0.32\n",
      "koi_prad_err2                                                   -0.19\n",
      "koi_sma                                                        0.2734\n",
      "koi_sma_err1                                                      NaN\n",
      "koi_sma_err2                                                      NaN\n",
      "koi_incl                                                        89.57\n",
      "koi_incl_err1                                                     NaN\n",
      "koi_incl_err2                                                     NaN\n",
      "koi_teq                                                         443.0\n",
      "koi_teq_err1                                                      NaN\n",
      "koi_teq_err2                                                      NaN\n",
      "koi_insol                                                        9.11\n",
      "koi_insol_err1                                                   2.87\n",
      "koi_insol_err2                                                  -1.62\n",
      "koi_dor                                                          77.9\n",
      "koi_dor_err1                                                     28.4\n",
      "koi_dor_err2                                                    -28.4\n",
      "koi_limbdark_mod                    Claret (2011 A&A 529 75) ATLAS LS\n",
      "koi_ldm_coeff4                                                    0.0\n",
      "koi_ldm_coeff3                                                    0.0\n",
      "koi_ldm_coeff2                                                 0.2291\n",
      "koi_ldm_coeff1                                                 0.4603\n",
      "koi_parm_prov                                         q1_q17_dr25_koi\n",
      "koi_max_sngle_ev                                             7.027669\n",
      "koi_max_mult_ev                                             20.109507\n",
      "koi_model_snr                                                    25.8\n",
      "koi_count                                                           2\n",
      "koi_num_transits                                                 25.0\n",
      "koi_tce_plnt_num                                                  2.0\n",
      "koi_tce_delivname                                     q1_q17_dr25_tce\n",
      "koi_quarters                       11111100000000000597806901362688.0\n",
      "koi_bin_oedp_sig                                               0.0023\n",
      "koi_trans_mod                      Mandel and Agol (2002 ApJ 580 171)\n",
      "koi_model_dof                                                     NaN\n",
      "koi_model_chisq                                                   NaN\n",
      "koi_datalink_dvr    010/010797/010797460/dv/kplr010797460-20160209...\n",
      "koi_datalink_dvs    010/010797/010797460/dv/kplr010797460-002-2016...\n",
      "koi_steff                                                      5455.0\n",
      "koi_steff_err1                                                   81.0\n",
      "koi_steff_err2                                                  -81.0\n",
      "koi_slogg                                                       4.467\n",
      "koi_slogg_err1                                                  0.064\n",
      "koi_slogg_err2                                                 -0.096\n",
      "koi_smet                                                         0.14\n",
      "koi_smet_err1                                                    0.15\n",
      "koi_smet_err2                                                   -0.15\n",
      "koi_srad                                                        0.927\n",
      "koi_srad_err1                                                   0.105\n",
      "koi_srad_err2                                                  -0.061\n",
      "koi_smass                                                       0.919\n",
      "koi_smass_err1                                                  0.052\n",
      "koi_smass_err2                                                 -0.046\n",
      "koi_sage                                                          NaN\n",
      "koi_sage_err1                                                     NaN\n",
      "koi_sage_err2                                                     NaN\n",
      "koi_sparprov                                      q1_q17_dr25_stellar\n",
      "ra                                                          291.93423\n",
      "dec                                                         48.141651\n",
      "koi_kepmag                                                     15.347\n",
      "koi_gmag                                                        15.89\n",
      "koi_rmag                                                        15.27\n",
      "koi_imag                                                       15.114\n",
      "koi_zmag                                                       15.006\n",
      "koi_jmag                                                       14.082\n",
      "koi_hmag                                                       13.751\n",
      "koi_kmag                                                       13.648\n",
      "koi_fwm_stat_sig                                                0.003\n",
      "koi_fwm_sra                                                 19.462265\n",
      "koi_fwm_sra_err                                               0.00002\n",
      "koi_fwm_sdec                                                 48.14199\n",
      "koi_fwm_sdec_err                                              0.00019\n",
      "koi_fwm_srao                                                    -0.63\n",
      "koi_fwm_srao_err                                                 0.72\n",
      "koi_fwm_sdeco                                                    1.23\n",
      "koi_fwm_sdeco_err                                                0.68\n",
      "koi_fwm_prao                                                  0.00066\n",
      "koi_fwm_prao_err                                              0.00065\n",
      "koi_fwm_pdeco                                                -0.00105\n",
      "koi_fwm_pdeco_err                                             0.00063\n",
      "koi_dicco_mra                                                    0.39\n",
      "koi_dicco_mra_err                                                0.36\n",
      "koi_dicco_mdec                                                    0.0\n",
      "koi_dicco_mdec_err                                               0.48\n",
      "koi_dicco_msky                                                   0.39\n",
      "koi_dicco_msky_err                                               0.36\n",
      "koi_dikco_mra                                                    0.49\n",
      "koi_dikco_mra_err                                                0.34\n",
      "koi_dikco_mdec                                                   0.12\n",
      "koi_dikco_mdec_err                                               0.73\n",
      "koi_dikco_msky                                                    0.5\n",
      "koi_dikco_msky_err                                               0.45\n"
     ]
    }
   ],
   "source": [
    "# %% read df_final\n",
    "# Read the Kepler Objects of Interest (KOI) df_final and look at one observation\n",
    "df_koi = pd.read_csv('../data/cumulative_2021.03.16_17.10.21.csv')\n",
    "print(df_koi.shape)\n",
    "print(df_koi[1:2].T)"
   ]
  },
  {
   "cell_type": "markdown",
   "metadata": {},
   "source": [
    "#### clean data  "
   ]
  },
  {
   "cell_type": "code",
   "execution_count": 5,
   "metadata": {},
   "outputs": [],
   "source": [
    "# Remove variables with no data\n",
    "df_koi_cleaned = df_koi.dropna(axis=1, how='all')\n",
    "# Remove variables with no data\n",
    "df_koi_cleaned = df_koi_cleaned.loc[:, (df_koi_cleaned != 0).any(axis=0)]\n",
    "# Remove the err columns\n",
    "df_koi_cleaned = df_koi_cleaned[df_koi_cleaned.columns.drop(\n",
    "    list(df_koi_cleaned.filter(regex='_err')))]\n",
    "# Still some variables that are all 0.0; will just drop them manually...\n",
    "cols = ['koi_eccen','koi_ldm_coeff4','koi_ldm_coeff3']\n",
    "df_koi_cleaned = df_koi_cleaned.drop(cols,axis=1)"
   ]
  },
  {
   "cell_type": "code",
   "execution_count": 6,
   "metadata": {
    "scrolled": true,
    "tags": []
   },
   "outputs": [
    {
     "name": "stdout",
     "output_type": "stream",
     "text": [
      "             rowid         kepid    koi_score  koi_fpflag_nt  koi_fpflag_ss  \\\n",
      "count  9564.000000  9.564000e+03  8054.000000    9564.000000    9564.000000   \n",
      "mean   4782.500000  7.690628e+06     0.480829       0.208595       0.232748   \n",
      "std    2761.033321  2.653459e+06     0.476928       4.767290       0.422605   \n",
      "min       1.000000  7.574500e+05     0.000000       0.000000       0.000000   \n",
      "25%    2391.750000  5.556034e+06     0.000000       0.000000       0.000000   \n",
      "50%    4782.500000  7.906892e+06     0.334000       0.000000       0.000000   \n",
      "75%    7173.250000  9.873066e+06     0.998000       0.000000       0.000000   \n",
      "max    9564.000000  1.293514e+07     1.000000     465.000000       1.000000   \n",
      "\n",
      "       koi_fpflag_co  koi_fpflag_ec     koi_period  koi_time0bk     koi_time0  \\\n",
      "count    9564.000000    9564.000000    9564.000000  9564.000000  9.564000e+03   \n",
      "mean        0.197512       0.120033      75.671358   166.183251  2.454999e+06   \n",
      "std         0.398142       0.325018    1334.744046    67.918960  6.791896e+01   \n",
      "min         0.000000       0.000000       0.241843   120.515914  2.454954e+06   \n",
      "25%         0.000000       0.000000       2.733684   132.761718  2.454966e+06   \n",
      "50%         0.000000       0.000000       9.752831   137.224595  2.454970e+06   \n",
      "75%         0.000000       0.000000      40.715178   170.694603  2.455004e+06   \n",
      "max         1.000000       1.000000  129995.778400  1472.522306  2.456306e+06   \n",
      "\n",
      "        koi_impact  koi_duration     koi_depth      koi_ror     koi_srho  \\\n",
      "count  9201.000000   9564.000000  9.201000e+03  9201.000000  9243.000000   \n",
      "mean      0.735105      5.621606  2.379245e+04     0.283646     9.164414   \n",
      "std       3.348832      6.471554  8.224316e+04     3.306558    53.807967   \n",
      "min       0.000000      0.052000  0.000000e+00     0.001289     0.000040   \n",
      "25%       0.197000      2.437750  1.600000e+02     0.012341     0.229250   \n",
      "50%       0.537000      3.792600  4.210000e+02     0.021076     0.956720   \n",
      "75%       0.889000      6.276500  1.470000e+03     0.095348     2.897175   \n",
      "max     100.806000    138.540000  1.540000e+06    99.870651   980.854190   \n",
      "\n",
      "            koi_prad      koi_sma     koi_incl       koi_teq     koi_insol  \\\n",
      "count    9201.000000  9201.000000  9200.000000   9201.000000  9.243000e+03   \n",
      "mean      102.891778     0.223989    82.469147   1085.385828  7.745737e+03   \n",
      "std      3077.639126     0.566359    15.223627    856.351161  1.592047e+05   \n",
      "min         0.080000     0.005900     2.290000     25.000000  0.000000e+00   \n",
      "25%         1.400000     0.037700    83.920000    539.000000  2.015000e+01   \n",
      "50%         2.390000     0.085100    88.500000    878.000000  1.416000e+02   \n",
      "75%        14.930000     0.214400    89.770000   1379.000000  8.702900e+02   \n",
      "max    200346.000000    44.989200    90.000000  14667.000000  1.094755e+07   \n",
      "\n",
      "            koi_dor  koi_ldm_coeff2  koi_ldm_coeff1  koi_max_sngle_ev  \\\n",
      "count   9201.000000     9201.000000     9201.000000       8422.000000   \n",
      "mean      76.736333        0.254439        0.407617        176.846052   \n",
      "std      845.274598        0.064806        0.106076        770.902357   \n",
      "min        0.373000       -0.120600        0.125400          2.417437   \n",
      "25%        5.358000        0.228600        0.326800          3.997856   \n",
      "50%       15.460000        0.271100        0.392000          5.589751   \n",
      "75%       45.370000        0.299800        0.464100         16.947631   \n",
      "max    79614.000000        0.482200        0.948600      22982.162000   \n",
      "\n",
      "       koi_max_mult_ev  koi_model_snr    koi_count  koi_num_transits  \\\n",
      "count      8422.000000    9201.000000  9564.000000       8422.000000   \n",
      "mean       1025.664672     259.895001     1.406315        385.006768   \n",
      "std        4154.121620     795.806615     0.873289        545.756200   \n",
      "min           7.105086       0.000000     1.000000          0.000000   \n",
      "25%          10.733030      12.000000     1.000000         41.000000   \n",
      "50%          19.254411      23.000000     1.000000        143.000000   \n",
      "75%          71.998003      78.000000     1.000000        469.000000   \n",
      "max      120049.680000    9054.700000     7.000000       2664.000000   \n",
      "\n",
      "       koi_tce_plnt_num  koi_quarters  koi_bin_oedp_sig     koi_steff  \\\n",
      "count       9218.000000  8.422000e+03       8054.000000   9201.000000   \n",
      "mean           1.243654  9.151387e+30          0.409500   5706.823280   \n",
      "std            0.664573  4.153749e+30          0.500793    796.857947   \n",
      "min            1.000000  1.000000e+15         -1.000000   2661.000000   \n",
      "25%            1.000000  1.111100e+31          0.134650   5310.000000   \n",
      "50%            1.000000  1.111110e+31          0.486600   5767.000000   \n",
      "75%            1.000000  1.111110e+31          0.810375   6112.000000   \n",
      "max            8.000000  1.111110e+31          1.000000  15896.000000   \n",
      "\n",
      "         koi_slogg     koi_smet     koi_srad    koi_smass           ra  \\\n",
      "count  9201.000000  9178.000000  9201.000000  9201.000000  9564.000000   \n",
      "mean      4.310157    -0.124431     1.728712     1.023706   292.060163   \n",
      "std       0.432606     0.282111     6.127185     0.349447     4.766657   \n",
      "min       0.047000    -2.500000     0.109000     0.000000   279.852720   \n",
      "25%       4.218000    -0.260000     0.829000     0.845000   288.660770   \n",
      "50%       4.438000    -0.100000     1.000000     0.974000   292.261125   \n",
      "75%       4.543000     0.070000     1.345000     1.101000   295.859160   \n",
      "max       5.364000     0.560000   229.908000     3.735000   301.720760   \n",
      "\n",
      "               dec   koi_kepmag     koi_gmag     koi_rmag     koi_imag  \\\n",
      "count  9564.000000  9563.000000  9523.000000  9555.000000  9410.000000   \n",
      "mean     43.810433    14.264606    14.830501    14.221565    14.075138   \n",
      "std       3.601243     1.385448     1.501885     1.383713     1.292573   \n",
      "min      36.577381     6.966000     7.225000     7.101000     7.627000   \n",
      "25%      40.777173    13.440000    13.896500    13.393000    13.294000   \n",
      "50%      43.677504    14.520000    15.064000    14.471000    14.317500   \n",
      "75%      46.714611    15.322000    15.935500    15.275000    15.063000   \n",
      "max      52.336010    20.003000    21.150000    19.960000    19.900000   \n",
      "\n",
      "          koi_zmag     koi_jmag     koi_hmag    koi_kmag  koi_fwm_stat_sig  \\\n",
      "count  8951.000000  9539.000000  9539.000000  9539.00000       8488.000000   \n",
      "mean     13.991724    12.993311    12.620604    12.54341          0.150994   \n",
      "std       1.230351     1.291912     1.267215     1.26818          0.252648   \n",
      "min       6.702000     4.097000     3.014000     2.31100          0.000000   \n",
      "25%      13.276000    12.253000    11.914500    11.84300          0.000000   \n",
      "50%      14.254000    13.236000    12.834000    12.74400          0.006000   \n",
      "75%      14.943000    13.968000    13.551000    13.48450          0.196250   \n",
      "max      17.403000    17.372000    17.615000    17.03800          1.000000   \n",
      "\n",
      "       koi_fwm_sra  koi_fwm_sdec  koi_fwm_srao  koi_fwm_sdeco  koi_fwm_prao  \\\n",
      "count  9058.000000   9058.000000   9109.000000    9109.000000   8734.000000   \n",
      "mean     19.471356     43.829239     -0.316136      -0.165817     -0.000097   \n",
      "std       0.319158      3.599553     20.254777      20.534655      0.058225   \n",
      "min      18.657036     36.576888   -742.430000    -417.900000     -4.000000   \n",
      "25%      19.243889     40.798688     -0.600000      -0.680000     -0.000210   \n",
      "50%      19.484983     43.694115     -0.000500      -0.034000      0.000000   \n",
      "75%      19.726785     46.720630      0.570000       0.500000      0.000240   \n",
      "max      20.114785     52.338190    549.500000     712.500000      1.190000   \n",
      "\n",
      "       koi_fwm_pdeco  koi_dicco_mra  koi_dicco_mdec  koi_dicco_msky  \\\n",
      "count    8747.000000    8965.000000     8965.000000     8965.000000   \n",
      "mean       -0.000714      -0.012281       -0.045420        1.866561   \n",
      "std         0.092987       2.406550        2.573558        2.988742   \n",
      "min        -6.000000     -25.100000      -75.900000        0.000000   \n",
      "25%        -0.000220      -0.320000       -0.387000        0.170000   \n",
      "50%         0.000000       0.000000        0.000000        0.610000   \n",
      "75%         0.000240       0.309000        0.300000        2.160000   \n",
      "max         5.000000      45.680000       27.500000       88.600000   \n",
      "\n",
      "       koi_dikco_mra  koi_dikco_mdec  koi_dikco_msky  \n",
      "count    8994.000000     8994.000000     8994.000000  \n",
      "mean       -0.024244       -0.076749        1.812566  \n",
      "std         2.382286        2.553758        2.986376  \n",
      "min       -27.800000      -76.600000        0.000000  \n",
      "25%        -0.310000       -0.390000        0.210000  \n",
      "50%        -0.004000       -0.017000        0.583000  \n",
      "75%         0.290000        0.300000        1.970000  \n",
      "max        46.570000       34.000000       89.600000  \n"
     ]
    }
   ],
   "source": [
    "df_koi_cleaned.shape\n",
    "# %% describe\n",
    "df_describe = pd.DataFrame(df_koi_cleaned.describe())\n",
    "print(df_describe)"
   ]
  },
  {
   "cell_type": "code",
   "execution_count": 7,
   "metadata": {},
   "outputs": [],
   "source": [
    "# Create subsets based on category\n",
    "transit_columns = ['koi_period', 'koi_time0bk', 'koi_time0', 'koi_impact', \n",
    "                   'koi_duration', 'koi_depth', 'koi_ror', 'koi_srho', 'koi_fittype', \n",
    "                   'koi_prad', 'koi_sma', 'koi_incl', 'koi_teq', 'koi_insol', 'koi_dor', \n",
    "                   'koi_limbdark_mod', 'koi_ldm_coeff2', 'koi_ldm_coeff1', 'koi_parm_prov']\n",
    "tce_columns = ['koi_max_sngle_ev', 'koi_max_mult_ev', 'koi_model_snr', 'koi_count', \n",
    "               'koi_num_transits', 'koi_tce_plnt_num', 'koi_tce_delivname', 'koi_quarters', \n",
    "               'koi_trans_mod', 'koi_datalink_dvr', 'koi_datalink_dvs']\n",
    "stellar_columns = ['koi_steff', 'koi_slogg', 'koi_smet', 'koi_srad', 'koi_smass', 'koi_sparprov']\n",
    "kic_columns = ['ra', 'dec', 'koi_kepmag', 'koi_gmag', 'koi_rmag', 'koi_imag', 'koi_zmag', \n",
    "               'koi_jmag', 'koi_hmag', 'koi_kmag']\n",
    "pixel_columns = ['koi_fwm_sra', 'koi_fwm_sdec', 'koi_fwm_srao', 'koi_fwm_sdeco', 'koi_fwm_prao', \n",
    "                 'koi_fwm_pdeco', 'koi_fwm_stat_sig', 'koi_dicco_mra', 'koi_dicco_mdec', \n",
    "                 'koi_dicco_msky', 'koi_dikco_mra', 'koi_dikco_mdec', 'koi_dikco_msky']\n",
    "                 \n",
    "df_transit = df_koi_cleaned[transit_columns]\n",
    "df_tce = df_koi_cleaned[tce_columns]\n",
    "df_stellar = df_koi_cleaned[stellar_columns]\n",
    "df_kic = df_koi_cleaned[kic_columns]\n",
    "df_pixel = df_koi_cleaned[pixel_columns]"
   ]
  },
  {
   "cell_type": "raw",
   "metadata": {},
   "source": [
    "# %% pandas profiling\n",
    "# Suppress SettingWithCopyWarning message generated by pandas-profiling\n",
    "import warnings\n",
    "warnings.simplefilter(action='ignore')\n",
    "\n",
    "profile = ProfileReport(df_koi_cleaned, title=\"Pandas Profiling Report\")\n",
    "# profile = ProfileReport(df, title='Pandas Profiling Report', explorative=True)\n",
    "pfile = \"profile_report_{}.html\".format(datetime.now().strftime('%m%d%y%H%M'))\n",
    "profile.to_file(pfile)"
   ]
  },
  {
   "cell_type": "markdown",
   "metadata": {},
   "source": [
    "#### prepare data"
   ]
  },
  {
   "cell_type": "code",
   "execution_count": 8,
   "metadata": {},
   "outputs": [],
   "source": [
    "\"\"\"\n",
    "Remove all descriptive variables to further simplify the df_final\n",
    "In the interest of time, remove all categorical variables\n",
    "\"\"\"\n",
    "remove_cols = ['rowid', 'kepid', 'kepoi_name', 'kepler_name', 'koi_vet_stat',\n",
    "               'koi_vet_date', 'koi_pdisposition', 'koi_fpflag_nt',\n",
    "               'koi_fpflag_ss', 'koi_fpflag_co', 'koi_fpflag_ec', 'koi_disp_prov',\n",
    "               'koi_comment', 'koi_limbdark_mod', 'koi_parm_prov', 'koi_tce_delivname',\n",
    "               'koi_trans_mod', 'koi_trans_mod', 'koi_datalink_dvr', 'koi_datalink_dvs',\n",
    "               'koi_sparprov', 'koi_fittype']\n",
    "df_final = df_koi_cleaned.drop(remove_cols, axis=1)"
   ]
  },
  {
   "cell_type": "code",
   "execution_count": 9,
   "metadata": {},
   "outputs": [],
   "source": [
    "# Separate labels from features\n",
    "labels = df_final['koi_disposition']\n",
    "df_features = df_final.drop(['koi_disposition'], axis=1)\n",
    "\n",
    "# Separate labels from features\n",
    "imputer = SimpleImputer(strategy=\"median\")\n",
    "imputer.fit(df_features)\n",
    "X = imputer.transform(df_features)\n",
    "df_final = pd.DataFrame(X, columns=df_features.columns, index=df_features.index)"
   ]
  },
  {
   "cell_type": "markdown",
   "metadata": {},
   "source": [
    "#### Dimensionality Reduction"
   ]
  },
  {
   "cell_type": "code",
   "execution_count": null,
   "metadata": {},
   "outputs": [],
   "source": [
    "# %% correlation matrix before dimentionality reduction\n",
    "rcParams['figure.figsize'] = 20, 14\n",
    "plt.matshow(df_final.corr())\n",
    "plt.yticks(np.arange(df_final.shape[1]), df_final.columns)\n",
    "plt.xticks(np.arange(df_final.shape[1]), df_final.columns, rotation='vertical')\n",
    "plt.colorbar()"
   ]
  },
  {
   "cell_type": "code",
   "execution_count": 10,
   "metadata": {},
   "outputs": [
    {
     "name": "stdout",
     "output_type": "stream",
     "text": [
      "Original number of features: 53\n",
      "Reduced number of features: 29\n"
     ]
    }
   ],
   "source": [
    "features, features_pca = pca(df_final)\n",
    "print('Original number of features: {}'.format(features.shape[1]))\n",
    "print('Reduced number of features: {}'.format(features_pca.shape[1]))\n",
    "#df_final = pd.DataFrame(features_pca, columns=df_final.columns, index=df_final.index)\n",
    "\n",
    "# Uncomment as needed to train on features with or without PCA\n",
    "# df_features = pd.DataFrame(features_pca)\n",
    "df_features = pd.DataFrame(features)"
   ]
  },
  {
   "cell_type": "code",
   "execution_count": null,
   "metadata": {},
   "outputs": [],
   "source": [
    "# %% correlation matrix after dimentionaloity reduction\n",
    "rcParams['figure.figsize'] = 20, 14\n",
    "plt.matshow(df_features.corr())\n",
    "plt.yticks(np.arange(df_features.shape[1]), df_features.columns)\n",
    "plt.xticks(np.arange(df_features.shape[1]), df_features.columns, rotation='vertical')\n",
    "plt.colorbar()"
   ]
  },
  {
   "cell_type": "code",
   "execution_count": 11,
   "metadata": {},
   "outputs": [],
   "source": [
    "# %% train and test sets\n",
    "# labels = np.array(labels)\n",
    "train_features, test_features, train_labels, test_labels = train_test_split(\n",
    "    df_features, labels, test_size = 0.25, random_state = 42)"
   ]
  },
  {
   "cell_type": "code",
   "execution_count": 12,
   "metadata": {},
   "outputs": [
    {
     "name": "stdout",
     "output_type": "stream",
     "text": [
      "Training Features Shape: (7173, 53)\n",
      "Training Labels Shape: (7173,)\n",
      "Testing Features Shape: (2391, 53)\n",
      "Testing Labels Shape: (2391,)\n",
      "Training distribution:  FALSE POSITIVE    0.508853\n",
      "CANDIDATE         0.246062\n",
      "CONFIRMED         0.245086\n",
      "Name: koi_disposition, dtype: float64\n",
      "Test distribution:  FALSE POSITIVE    0.497700\n",
      "CANDIDATE         0.251359\n",
      "CONFIRMED         0.250941\n",
      "Name: koi_disposition, dtype: float64\n"
     ]
    }
   ],
   "source": [
    "print('Training Features Shape:', train_features.shape)\n",
    "print('Training Labels Shape:', train_labels.shape)\n",
    "print('Testing Features Shape:', test_features.shape)\n",
    "print('Testing Labels Shape:', test_labels.shape)\n",
    "print('Training distribution: ',train_labels.value_counts(normalize=True))\n",
    "print('Test distribution: ',test_labels.value_counts(normalize=True))"
   ]
  },
  {
   "cell_type": "markdown",
   "metadata": {},
   "source": [
    "#### train baseline model"
   ]
  },
  {
   "cell_type": "code",
   "execution_count": 13,
   "metadata": {},
   "outputs": [
    {
     "data": {
      "text/plain": [
       "RandomForestClassifier(n_estimators=1000, random_state=42)"
      ]
     },
     "execution_count": 13,
     "metadata": {},
     "output_type": "execute_result"
    }
   ],
   "source": [
    "# Instantiate model with 1000 decision trees\n",
    "rf = RandomForestClassifier(n_estimators = 1000, random_state = 42)\n",
    "rf.fit(train_features, train_labels)"
   ]
  },
  {
   "cell_type": "code",
   "execution_count": 14,
   "metadata": {},
   "outputs": [
    {
     "name": "stdout",
     "output_type": "stream",
     "text": [
      "Accuracy score:  0.8619824341279799\n",
      "Recall score:  [0.65723794 0.87       0.96134454]\n",
      "Cross validation score:  [0.84818068 0.85612714 0.84734421]\n",
      "                precision    recall  f1-score   support\n",
      "\n",
      "     CANDIDATE       0.78      0.66      0.71       601\n",
      "     CONFIRMED       0.86      0.87      0.87       600\n",
      "FALSE POSITIVE       0.89      0.96      0.93      1190\n",
      "\n",
      "      accuracy                           0.86      2391\n",
      "     macro avg       0.85      0.83      0.84      2391\n",
      "  weighted avg       0.86      0.86      0.86      2391\n",
      "\n"
     ]
    }
   ],
   "source": [
    "predictions = rf.predict(test_features)\n",
    "print(\"Accuracy score: \", accuracy_score(test_labels, predictions))\n",
    "print(\"Recall score: \", recall_score(test_labels, predictions, average=None))\n",
    "cv_score = cross_val_score(rf, train_features, train_labels, cv=3, scoring='accuracy')\n",
    "print(\"Cross validation score: \", cv_score)\n",
    "print(classification_report(test_labels,predictions))"
   ]
  },
  {
   "cell_type": "markdown",
   "metadata": {},
   "source": [
    "#### confusion matrix"
   ]
  },
  {
   "cell_type": "code",
   "execution_count": 15,
   "metadata": {},
   "outputs": [
    {
     "name": "stdout",
     "output_type": "stream",
     "text": [
      "                  Predicted Candidate  Predicted Confirmed  Predicted FP\n",
      "Actual Candidate                 1104                  289           372\n",
      "Actual Confirmed                  198                 1517            43\n",
      "Actual FP                         163                    7          3480\n"
     ]
    },
    {
     "data": {
      "image/png": "[encoded data removed]",
      "text/plain": [
       "<Figure size 720x576 with 2 Axes>"
      ]
     },
     "metadata": {
      "needs_background": "light"
     },
     "output_type": "display_data"
    }
   ],
   "source": [
    "train_pred = cross_val_predict(rf, train_features,train_labels, cv=3)\n",
    "conf_matrix_rf = pd.DataFrame(confusion_matrix(train_labels, \n",
    "                                               train_pred, \n",
    "                                               labels=['CANDIDATE','CONFIRMED','FALSE POSITIVE']), \n",
    "                              index = ['Actual Candidate', 'Actual Confirmed', 'Actual FP'], \n",
    "                              columns = ['Predicted Candidate', 'Predicted Confirmed', 'Predicted FP']\n",
    "                             )\n",
    "print(conf_matrix_rf)\n",
    "plot_cm(conf_matrix_rf)"
   ]
  },
  {
   "cell_type": "markdown",
   "metadata": {},
   "source": [
    "#### randomized search"
   ]
  },
  {
   "cell_type": "code",
   "execution_count": 16,
   "metadata": {},
   "outputs": [],
   "source": [
    "# Number of trees in random forest\n",
    "n_estimators = [int(x) for x in np.linspace(start = 100, stop = 2000, num = 10)]\n",
    "# Number of features to consider at every split\n",
    "max_features = ['auto', 'sqrt']\n",
    "# Maximum number of levels in tree\n",
    "max_depth = [int(x) for x in np.linspace(10, 110, num = 11)]\n",
    "max_depth.append(None)\n",
    "# Minimum number of samples required to split a node\n",
    "min_samples_split = [2, 5, 10]\n",
    "# Minimum number of samples required at each leaf node\n",
    "min_samples_leaf = [1, 2, 4]\n",
    "# Method of selecting samples for training each tree\n",
    "bootstrap = [True, False]\n",
    "\n",
    "# Create the random grid\n",
    "random_grid = {'n_estimators': n_estimators,\n",
    "               'max_features': max_features,\n",
    "               'max_depth': max_depth,\n",
    "               'min_samples_split': min_samples_split,\n",
    "               'min_samples_leaf': min_samples_leaf,\n",
    "               'bootstrap': bootstrap}\n",
    "\n",
    "rf_2 = RandomForestClassifier(random_state = 42)"
   ]
  },
  {
   "cell_type": "markdown",
   "metadata": {},
   "source": [
    "Random search of parameters, using 3 fold cross validation, search across 100 different combinations, and use all available cores"
   ]
  },
  {
   "cell_type": "code",
   "execution_count": 17,
   "metadata": {},
   "outputs": [
    {
     "name": "stdout",
     "output_type": "stream",
     "text": [
      "Fitting 3 folds for each of 100 candidates, totalling 300 fits\n"
     ]
    },
    {
     "data": {
      "text/plain": [
       "RandomizedSearchCV(cv=3, estimator=RandomForestClassifier(random_state=42),\n",
       "                   n_iter=100, n_jobs=-1,\n",
       "                   param_distributions={'bootstrap': [True, False],\n",
       "                                        'max_depth': [10, 20, 30, 40, 50, 60,\n",
       "                                                      70, 80, 90, 100, 110,\n",
       "                                                      None],\n",
       "                                        'max_features': ['auto', 'sqrt'],\n",
       "                                        'min_samples_leaf': [1, 2, 4],\n",
       "                                        'min_samples_split': [2, 5, 10],\n",
       "                                        'n_estimators': [100, 311, 522, 733,\n",
       "                                                         944, 1155, 1366, 1577,\n",
       "                                                         1788, 2000]},\n",
       "                   random_state=42, verbose=2)"
      ]
     },
     "execution_count": 17,
     "metadata": {},
     "output_type": "execute_result"
    }
   ],
   "source": [
    "rf_random = RandomizedSearchCV(estimator = rf_2, \n",
    "                               param_distributions = random_grid, \n",
    "                               n_iter = 100, \n",
    "                               cv = 3, \n",
    "                               verbose=2, \n",
    "                               random_state=42, \n",
    "                               n_jobs = -1)\n",
    "# Fit the random search model\n",
    "rf_random.fit(train_features, train_labels)"
   ]
  },
  {
   "cell_type": "code",
   "execution_count": 18,
   "metadata": {},
   "outputs": [
    {
     "name": "stdout",
     "output_type": "stream",
     "text": [
      "{'n_estimators': 311, 'min_samples_split': 5, 'min_samples_leaf': 1, 'max_features': 'auto', 'max_depth': 90, 'bootstrap': False}\n"
     ]
    }
   ],
   "source": [
    "# %% best params - use these params for the next model\n",
    "print(rf_random.best_params_)"
   ]
  },
  {
   "cell_type": "markdown",
   "metadata": {},
   "source": [
    "#### Model with Random Search CV Params"
   ]
  },
  {
   "cell_type": "code",
   "execution_count": 19,
   "metadata": {},
   "outputs": [],
   "source": [
    "rf_rs = RandomForestClassifier(n_estimators = 311,\n",
    "                               min_samples_split = 5,\n",
    "                               min_samples_leaf = 1,\n",
    "                               max_features = 'auto',\n",
    "                               max_depth = 90,\n",
    "                               bootstrap = False)"
   ]
  },
  {
   "cell_type": "code",
   "execution_count": 20,
   "metadata": {},
   "outputs": [
    {
     "data": {
      "text/plain": [
       "RandomForestClassifier(bootstrap=False, max_depth=90, min_samples_split=5,\n",
       "                       n_estimators=311)"
      ]
     },
     "execution_count": 20,
     "metadata": {},
     "output_type": "execute_result"
    }
   ],
   "source": [
    "rf_rs.fit(train_features, train_labels)"
   ]
  },
  {
   "cell_type": "code",
   "execution_count": 21,
   "metadata": {},
   "outputs": [
    {
     "name": "stdout",
     "output_type": "stream",
     "text": [
      "1.0\n",
      "0.8665830196570473\n",
      "                precision    recall  f1-score   support\n",
      "\n",
      "     CANDIDATE       0.78      0.68      0.73       601\n",
      "     CONFIRMED       0.86      0.87      0.87       600\n",
      "FALSE POSITIVE       0.90      0.96      0.93      1190\n",
      "\n",
      "      accuracy                           0.87      2391\n",
      "     macro avg       0.85      0.84      0.84      2391\n",
      "  weighted avg       0.86      0.87      0.86      2391\n",
      "\n"
     ]
    }
   ],
   "source": [
    "print(rf_rs.score(train_features, train_labels))\n",
    "y_pred = rf_rs.predict(test_features)\n",
    "print(accuracy_score(test_labels, y_pred))\n",
    "print(classification_report(test_labels, y_pred))"
   ]
  },
  {
   "cell_type": "code",
   "execution_count": 22,
   "metadata": {},
   "outputs": [
    {
     "name": "stdout",
     "output_type": "stream",
     "text": [
      "                  Predicted Candidate  Predicted Confirmed  Predicted FP\n",
      "Actual Candidate                  367                  107           127\n",
      "Actual Confirmed                   66                  519            15\n",
      "Actual FP                          63                    3          1124\n"
     ]
    },
    {
     "data": {
      "image/png": "[encoded data removed]",
      "text/plain": [
       "<Figure size 720x576 with 2 Axes>"
      ]
     },
     "metadata": {
      "needs_background": "light"
     },
     "output_type": "display_data"
    }
   ],
   "source": [
    "# confusion matrix & accuracy\n",
    "rs_pred = cross_val_predict(rf_rs, test_features,test_labels, cv=3)\n",
    "conf_matrix_rf = confusion_matrix(test_labels, rs_pred)\n",
    "conf_matrix_rf = pd.DataFrame(confusion_matrix(test_labels, \n",
    "                                               rs_pred, \n",
    "                                               labels=['CANDIDATE','CONFIRMED','FALSE POSITIVE']), \n",
    "                              index = ['Actual Candidate', 'Actual Confirmed', 'Actual FP'], \n",
    "                              columns = ['Predicted Candidate', 'Predicted Confirmed', 'Predicted FP']\n",
    "                             )\n",
    "print(conf_matrix_rf)\n",
    "plot_cm(conf_matrix_rf)"
   ]
  },
  {
   "cell_type": "code",
   "execution_count": 23,
   "metadata": {},
   "outputs": [
    {
     "name": "stdout",
     "output_type": "stream",
     "text": [
      "Accuracy score:  0.8406524466750314\n",
      "Recall score:  [0.61064892 0.865      0.94453782]\n",
      "Precision score:  [0.73991935 0.82511924 0.8878357 ]\n"
     ]
    }
   ],
   "source": [
    "print(\"Accuracy score: \", accuracy_score(test_labels, rs_pred))\n",
    "print(\"Recall score: \", recall_score(test_labels, rs_pred, average=None))\n",
    "print(\"Precision score: \", precision_score(test_labels, rs_pred, average=None))"
   ]
  },
  {
   "cell_type": "markdown",
   "metadata": {},
   "source": [
    "TPOT is an open-source library for performing AutoML in Python. It makes use of the popular Scikit-Learn machine learning library for data transforms and machine learning algorithms and uses a Genetic Programming stochastic global search procedure to efficiently discover a top-performing model pipeline for a given dataset. [1](https://machinelearningmastery.com/tpot-for-automated-machine-learning-in-python/)"
   ]
  },
  {
   "cell_type": "code",
   "execution_count": 24,
   "metadata": {},
   "outputs": [],
   "source": [
    "# TPOT\n",
    "\n",
    "# Number of trees in random forest\n",
    "n_estimators = [int(x) for x in np.linspace(start = 200, stop = 2000, num = 10)]\n",
    "# Number of features to consider at every split\n",
    "max_features = ['auto', 'sqrt','log2']\n",
    "# Maximum number of levels in tree\n",
    "max_depth = [int(x) for x in np.linspace(10, 1000,10)]\n",
    "# Minimum number of samples required to split a node\n",
    "min_samples_split = [2, 5, 10,14]\n",
    "# Minimum number of samples required at each leaf node\n",
    "min_samples_leaf = [1, 2, 4,6,8]\n",
    "# Create the random grid\n",
    "param = {'n_estimators': n_estimators,\n",
    "               'max_features': max_features,\n",
    "               'max_depth': max_depth,\n",
    "               'min_samples_split': min_samples_split,\n",
    "               'min_samples_leaf': min_samples_leaf,\n",
    "              'criterion':['entropy','gini']}"
   ]
  },
  {
   "cell_type": "code",
   "execution_count": 25,
   "metadata": {
    "scrolled": true,
    "tags": []
   },
   "outputs": [
    {
     "data": {
      "application/vnd.jupyter.widget-view+json": {
       "model_id": "",
       "version_major": 2,
       "version_minor": 0
      },
      "text/plain": [
       "Optimization Progress:   0%|          | 0/84 [00:00<?, ?pipeline/s]"
      ]
     },
     "metadata": {},
     "output_type": "display_data"
    },
    {
     "name": "stdout",
     "output_type": "stream",
     "text": [
      "\n",
      "Generation 1 - Current best internal CV score: 0.8526419788089566\n",
      "\n",
      "Generation 2 - Current best internal CV score: 0.8529211519342221\n",
      "\n",
      "Generation 3 - Current best internal CV score: 0.8531991592474387\n",
      "\n",
      "Generation 4 - Current best internal CV score: 0.8533390566932845\n",
      "\n",
      "Generation 5 - Current best internal CV score: 0.8533390566932845\n",
      "\n",
      "Best pipeline: RandomForestClassifier(input_matrix, criterion=entropy, max_depth=450, max_features=auto, min_samples_leaf=1, min_samples_split=2, n_estimators=1600)\n"
     ]
    },
    {
     "ename": "ValueError",
     "evalue": "could not convert string to float: 'CANDIDATE'",
     "output_type": "error",
     "traceback": [
      "\u001b[1;31m---------------------------------------------------------------------------\u001b[0m",
      "\u001b[1;31mValueError\u001b[0m                                Traceback (most recent call last)",
      "\u001b[1;32m<ipython-input-25-b9782a69f7b9>\u001b[0m in \u001b[0;36m<module>\u001b[1;34m\u001b[0m\n\u001b[0;32m      8\u001b[0m                                  scoring = 'accuracy')\n\u001b[0;32m      9\u001b[0m \u001b[0mtpot_classifier\u001b[0m\u001b[1;33m.\u001b[0m\u001b[0mfit\u001b[0m\u001b[1;33m(\u001b[0m\u001b[0mtrain_features\u001b[0m\u001b[1;33m,\u001b[0m \u001b[0mtrain_labels\u001b[0m\u001b[1;33m)\u001b[0m\u001b[1;33m\u001b[0m\u001b[1;33m\u001b[0m\u001b[0m\n\u001b[1;32m---> 10\u001b[1;33m \u001b[0maccuracy\u001b[0m \u001b[1;33m=\u001b[0m \u001b[0mtpot_classifier\u001b[0m\u001b[1;33m.\u001b[0m\u001b[0mscore\u001b[0m\u001b[1;33m(\u001b[0m\u001b[0mtest_features\u001b[0m\u001b[1;33m,\u001b[0m \u001b[0mtest_labels\u001b[0m\u001b[1;33m)\u001b[0m\u001b[1;33m\u001b[0m\u001b[1;33m\u001b[0m\u001b[0m\n\u001b[0m\u001b[0;32m     11\u001b[0m \u001b[0mprint\u001b[0m\u001b[1;33m(\u001b[0m\u001b[0maccuracy\u001b[0m\u001b[1;33m)\u001b[0m\u001b[1;33m\u001b[0m\u001b[1;33m\u001b[0m\u001b[0m\n",
      "\u001b[1;32md:\\environments\\env\\lib\\site-packages\\tpot\\base.py\u001b[0m in \u001b[0;36mscore\u001b[1;34m(self, testing_features, testing_target)\u001b[0m\n\u001b[0;32m   1105\u001b[0m             \u001b[0mself\u001b[0m\u001b[1;33m.\u001b[0m\u001b[0mfitted_pipeline_\u001b[0m\u001b[1;33m,\u001b[0m\u001b[1;33m\u001b[0m\u001b[1;33m\u001b[0m\u001b[0m\n\u001b[0;32m   1106\u001b[0m             \u001b[0mtesting_features\u001b[0m\u001b[1;33m.\u001b[0m\u001b[0mastype\u001b[0m\u001b[1;33m(\u001b[0m\u001b[0mnp\u001b[0m\u001b[1;33m.\u001b[0m\u001b[0mfloat64\u001b[0m\u001b[1;33m)\u001b[0m\u001b[1;33m,\u001b[0m\u001b[1;33m\u001b[0m\u001b[1;33m\u001b[0m\u001b[0m\n\u001b[1;32m-> 1107\u001b[1;33m             \u001b[0mtesting_target\u001b[0m\u001b[1;33m.\u001b[0m\u001b[0mastype\u001b[0m\u001b[1;33m(\u001b[0m\u001b[0mnp\u001b[0m\u001b[1;33m.\u001b[0m\u001b[0mfloat64\u001b[0m\u001b[1;33m)\u001b[0m\u001b[1;33m,\u001b[0m\u001b[1;33m\u001b[0m\u001b[1;33m\u001b[0m\u001b[0m\n\u001b[0m\u001b[0;32m   1108\u001b[0m         )\n\u001b[0;32m   1109\u001b[0m         \u001b[1;32mreturn\u001b[0m \u001b[0mscore\u001b[0m\u001b[1;33m\u001b[0m\u001b[1;33m\u001b[0m\u001b[0m\n",
      "\u001b[1;32md:\\environments\\env\\lib\\site-packages\\pandas\\core\\generic.py\u001b[0m in \u001b[0;36mastype\u001b[1;34m(self, dtype, copy, errors)\u001b[0m\n\u001b[0;32m   5872\u001b[0m         \u001b[1;32melse\u001b[0m\u001b[1;33m:\u001b[0m\u001b[1;33m\u001b[0m\u001b[1;33m\u001b[0m\u001b[0m\n\u001b[0;32m   5873\u001b[0m             \u001b[1;31m# else, only a single dtype is given\u001b[0m\u001b[1;33m\u001b[0m\u001b[1;33m\u001b[0m\u001b[1;33m\u001b[0m\u001b[0m\n\u001b[1;32m-> 5874\u001b[1;33m             \u001b[0mnew_data\u001b[0m \u001b[1;33m=\u001b[0m \u001b[0mself\u001b[0m\u001b[1;33m.\u001b[0m\u001b[0m_mgr\u001b[0m\u001b[1;33m.\u001b[0m\u001b[0mastype\u001b[0m\u001b[1;33m(\u001b[0m\u001b[0mdtype\u001b[0m\u001b[1;33m=\u001b[0m\u001b[0mdtype\u001b[0m\u001b[1;33m,\u001b[0m \u001b[0mcopy\u001b[0m\u001b[1;33m=\u001b[0m\u001b[0mcopy\u001b[0m\u001b[1;33m,\u001b[0m \u001b[0merrors\u001b[0m\u001b[1;33m=\u001b[0m\u001b[0merrors\u001b[0m\u001b[1;33m)\u001b[0m\u001b[1;33m\u001b[0m\u001b[1;33m\u001b[0m\u001b[0m\n\u001b[0m\u001b[0;32m   5875\u001b[0m             \u001b[1;32mreturn\u001b[0m \u001b[0mself\u001b[0m\u001b[1;33m.\u001b[0m\u001b[0m_constructor\u001b[0m\u001b[1;33m(\u001b[0m\u001b[0mnew_data\u001b[0m\u001b[1;33m)\u001b[0m\u001b[1;33m.\u001b[0m\u001b[0m__finalize__\u001b[0m\u001b[1;33m(\u001b[0m\u001b[0mself\u001b[0m\u001b[1;33m,\u001b[0m \u001b[0mmethod\u001b[0m\u001b[1;33m=\u001b[0m\u001b[1;34m\"astype\"\u001b[0m\u001b[1;33m)\u001b[0m\u001b[1;33m\u001b[0m\u001b[1;33m\u001b[0m\u001b[0m\n\u001b[0;32m   5876\u001b[0m \u001b[1;33m\u001b[0m\u001b[0m\n",
      "\u001b[1;32md:\\environments\\env\\lib\\site-packages\\pandas\\core\\internals\\managers.py\u001b[0m in \u001b[0;36mastype\u001b[1;34m(self, dtype, copy, errors)\u001b[0m\n\u001b[0;32m    629\u001b[0m         \u001b[0mself\u001b[0m\u001b[1;33m,\u001b[0m \u001b[0mdtype\u001b[0m\u001b[1;33m,\u001b[0m \u001b[0mcopy\u001b[0m\u001b[1;33m:\u001b[0m \u001b[0mbool\u001b[0m \u001b[1;33m=\u001b[0m \u001b[1;32mFalse\u001b[0m\u001b[1;33m,\u001b[0m \u001b[0merrors\u001b[0m\u001b[1;33m:\u001b[0m \u001b[0mstr\u001b[0m \u001b[1;33m=\u001b[0m \u001b[1;34m\"raise\"\u001b[0m\u001b[1;33m\u001b[0m\u001b[1;33m\u001b[0m\u001b[0m\n\u001b[0;32m    630\u001b[0m     ) -> \"BlockManager\":\n\u001b[1;32m--> 631\u001b[1;33m         \u001b[1;32mreturn\u001b[0m \u001b[0mself\u001b[0m\u001b[1;33m.\u001b[0m\u001b[0mapply\u001b[0m\u001b[1;33m(\u001b[0m\u001b[1;34m\"astype\"\u001b[0m\u001b[1;33m,\u001b[0m \u001b[0mdtype\u001b[0m\u001b[1;33m=\u001b[0m\u001b[0mdtype\u001b[0m\u001b[1;33m,\u001b[0m \u001b[0mcopy\u001b[0m\u001b[1;33m=\u001b[0m\u001b[0mcopy\u001b[0m\u001b[1;33m,\u001b[0m \u001b[0merrors\u001b[0m\u001b[1;33m=\u001b[0m\u001b[0merrors\u001b[0m\u001b[1;33m)\u001b[0m\u001b[1;33m\u001b[0m\u001b[1;33m\u001b[0m\u001b[0m\n\u001b[0m\u001b[0;32m    632\u001b[0m \u001b[1;33m\u001b[0m\u001b[0m\n\u001b[0;32m    633\u001b[0m     def convert(\n",
      "\u001b[1;32md:\\environments\\env\\lib\\site-packages\\pandas\\core\\internals\\managers.py\u001b[0m in \u001b[0;36mapply\u001b[1;34m(self, f, align_keys, ignore_failures, **kwargs)\u001b[0m\n\u001b[0;32m    425\u001b[0m                     \u001b[0mapplied\u001b[0m \u001b[1;33m=\u001b[0m \u001b[0mb\u001b[0m\u001b[1;33m.\u001b[0m\u001b[0mapply\u001b[0m\u001b[1;33m(\u001b[0m\u001b[0mf\u001b[0m\u001b[1;33m,\u001b[0m \u001b[1;33m**\u001b[0m\u001b[0mkwargs\u001b[0m\u001b[1;33m)\u001b[0m\u001b[1;33m\u001b[0m\u001b[1;33m\u001b[0m\u001b[0m\n\u001b[0;32m    426\u001b[0m                 \u001b[1;32melse\u001b[0m\u001b[1;33m:\u001b[0m\u001b[1;33m\u001b[0m\u001b[1;33m\u001b[0m\u001b[0m\n\u001b[1;32m--> 427\u001b[1;33m                     \u001b[0mapplied\u001b[0m \u001b[1;33m=\u001b[0m \u001b[0mgetattr\u001b[0m\u001b[1;33m(\u001b[0m\u001b[0mb\u001b[0m\u001b[1;33m,\u001b[0m \u001b[0mf\u001b[0m\u001b[1;33m)\u001b[0m\u001b[1;33m(\u001b[0m\u001b[1;33m**\u001b[0m\u001b[0mkwargs\u001b[0m\u001b[1;33m)\u001b[0m\u001b[1;33m\u001b[0m\u001b[1;33m\u001b[0m\u001b[0m\n\u001b[0m\u001b[0;32m    428\u001b[0m             \u001b[1;32mexcept\u001b[0m \u001b[1;33m(\u001b[0m\u001b[0mTypeError\u001b[0m\u001b[1;33m,\u001b[0m \u001b[0mNotImplementedError\u001b[0m\u001b[1;33m)\u001b[0m\u001b[1;33m:\u001b[0m\u001b[1;33m\u001b[0m\u001b[1;33m\u001b[0m\u001b[0m\n\u001b[0;32m    429\u001b[0m                 \u001b[1;32mif\u001b[0m \u001b[1;32mnot\u001b[0m \u001b[0mignore_failures\u001b[0m\u001b[1;33m:\u001b[0m\u001b[1;33m\u001b[0m\u001b[1;33m\u001b[0m\u001b[0m\n",
      "\u001b[1;32md:\\environments\\env\\lib\\site-packages\\pandas\\core\\internals\\blocks.py\u001b[0m in \u001b[0;36mastype\u001b[1;34m(self, dtype, copy, errors)\u001b[0m\n\u001b[0;32m    671\u001b[0m             \u001b[0mvals1d\u001b[0m \u001b[1;33m=\u001b[0m \u001b[0mvalues\u001b[0m\u001b[1;33m.\u001b[0m\u001b[0mravel\u001b[0m\u001b[1;33m(\u001b[0m\u001b[1;33m)\u001b[0m\u001b[1;33m\u001b[0m\u001b[1;33m\u001b[0m\u001b[0m\n\u001b[0;32m    672\u001b[0m             \u001b[1;32mtry\u001b[0m\u001b[1;33m:\u001b[0m\u001b[1;33m\u001b[0m\u001b[1;33m\u001b[0m\u001b[0m\n\u001b[1;32m--> 673\u001b[1;33m                 \u001b[0mvalues\u001b[0m \u001b[1;33m=\u001b[0m \u001b[0mastype_nansafe\u001b[0m\u001b[1;33m(\u001b[0m\u001b[0mvals1d\u001b[0m\u001b[1;33m,\u001b[0m \u001b[0mdtype\u001b[0m\u001b[1;33m,\u001b[0m \u001b[0mcopy\u001b[0m\u001b[1;33m=\u001b[0m\u001b[1;32mTrue\u001b[0m\u001b[1;33m)\u001b[0m\u001b[1;33m\u001b[0m\u001b[1;33m\u001b[0m\u001b[0m\n\u001b[0m\u001b[0;32m    674\u001b[0m             \u001b[1;32mexcept\u001b[0m \u001b[1;33m(\u001b[0m\u001b[0mValueError\u001b[0m\u001b[1;33m,\u001b[0m \u001b[0mTypeError\u001b[0m\u001b[1;33m)\u001b[0m\u001b[1;33m:\u001b[0m\u001b[1;33m\u001b[0m\u001b[1;33m\u001b[0m\u001b[0m\n\u001b[0;32m    675\u001b[0m                 \u001b[1;31m# e.g. astype_nansafe can fail on object-dtype of strings\u001b[0m\u001b[1;33m\u001b[0m\u001b[1;33m\u001b[0m\u001b[1;33m\u001b[0m\u001b[0m\n",
      "\u001b[1;32md:\\environments\\env\\lib\\site-packages\\pandas\\core\\dtypes\\cast.py\u001b[0m in \u001b[0;36mastype_nansafe\u001b[1;34m(arr, dtype, copy, skipna)\u001b[0m\n\u001b[0;32m   1095\u001b[0m     \u001b[1;32mif\u001b[0m \u001b[0mcopy\u001b[0m \u001b[1;32mor\u001b[0m \u001b[0mis_object_dtype\u001b[0m\u001b[1;33m(\u001b[0m\u001b[0marr\u001b[0m\u001b[1;33m)\u001b[0m \u001b[1;32mor\u001b[0m \u001b[0mis_object_dtype\u001b[0m\u001b[1;33m(\u001b[0m\u001b[0mdtype\u001b[0m\u001b[1;33m)\u001b[0m\u001b[1;33m:\u001b[0m\u001b[1;33m\u001b[0m\u001b[1;33m\u001b[0m\u001b[0m\n\u001b[0;32m   1096\u001b[0m         \u001b[1;31m# Explicit copy, or required since NumPy can't view from / to object.\u001b[0m\u001b[1;33m\u001b[0m\u001b[1;33m\u001b[0m\u001b[1;33m\u001b[0m\u001b[0m\n\u001b[1;32m-> 1097\u001b[1;33m         \u001b[1;32mreturn\u001b[0m \u001b[0marr\u001b[0m\u001b[1;33m.\u001b[0m\u001b[0mastype\u001b[0m\u001b[1;33m(\u001b[0m\u001b[0mdtype\u001b[0m\u001b[1;33m,\u001b[0m \u001b[0mcopy\u001b[0m\u001b[1;33m=\u001b[0m\u001b[1;32mTrue\u001b[0m\u001b[1;33m)\u001b[0m\u001b[1;33m\u001b[0m\u001b[1;33m\u001b[0m\u001b[0m\n\u001b[0m\u001b[0;32m   1098\u001b[0m \u001b[1;33m\u001b[0m\u001b[0m\n\u001b[0;32m   1099\u001b[0m     \u001b[1;32mreturn\u001b[0m \u001b[0marr\u001b[0m\u001b[1;33m.\u001b[0m\u001b[0mview\u001b[0m\u001b[1;33m(\u001b[0m\u001b[0mdtype\u001b[0m\u001b[1;33m)\u001b[0m\u001b[1;33m\u001b[0m\u001b[1;33m\u001b[0m\u001b[0m\n",
      "\u001b[1;31mValueError\u001b[0m: could not convert string to float: 'CANDIDATE'"
     ]
    }
   ],
   "source": [
    "tpot_classifier = TPOTClassifier(generations= 5, \n",
    "                                 population_size= 24, \n",
    "                                 offspring_size= 12,\n",
    "                                 verbosity= 2, \n",
    "                                 early_stop= 12,\n",
    "                                 config_dict={'sklearn.ensemble.RandomForestClassifier': param}, \n",
    "                                 cv = 4, \n",
    "                                 scoring = 'accuracy')\n",
    "tpot_classifier.fit(train_features, train_labels)\n",
    "accuracy = tpot_classifier.score(test_features, test_labels)\n",
    "print(accuracy)"
   ]
  },
  {
   "cell_type": "markdown",
   "metadata": {},
   "source": [
    "#### AdaBoost Classifier"
   ]
  },
  {
   "cell_type": "code",
   "execution_count": 26,
   "metadata": {},
   "outputs": [],
   "source": [
    "from sklearn.ensemble import AdaBoostClassifier\n",
    "from sklearn.tree import DecisionTreeClassifier\n",
    "\n",
    "ada_clf = AdaBoostClassifier(\n",
    "    DecisionTreeClassifier(max_depth=1), n_estimators=200,\n",
    "    algorithm='SAMME.R', learning_rate=0.5)\n",
    "\n",
    "ada_clf.fit(train_features, train_labels)\n",
    "ada_pred = ada_clf.predict(test_features)"
   ]
  },
  {
   "cell_type": "code",
   "execution_count": 27,
   "metadata": {},
   "outputs": [
    {
     "name": "stdout",
     "output_type": "stream",
     "text": [
      "                precision    recall  f1-score   support\n",
      "\n",
      "     CANDIDATE       0.69      0.59      0.64       601\n",
      "     CONFIRMED       0.82      0.87      0.84       600\n",
      "FALSE POSITIVE       0.89      0.93      0.91      1190\n",
      "\n",
      "      accuracy                           0.83      2391\n",
      "     macro avg       0.80      0.80      0.80      2391\n",
      "  weighted avg       0.82      0.83      0.82      2391\n",
      "\n"
     ]
    }
   ],
   "source": [
    "print(classification_report(test_labels, ada_pred))"
   ]
  },
  {
   "cell_type": "markdown",
   "metadata": {},
   "source": [
    "#### SVM"
   ]
  },
  {
   "cell_type": "code",
   "execution_count": 28,
   "metadata": {},
   "outputs": [],
   "source": [
    "from sklearn.svm import SVC\n",
    "svm_clf = SVC()\n",
    "svm_clf.fit(train_features, train_labels)\n",
    "svm_preds = svm_clf.predict(test_features)"
   ]
  },
  {
   "cell_type": "code",
   "execution_count": 29,
   "metadata": {},
   "outputs": [
    {
     "name": "stdout",
     "output_type": "stream",
     "text": [
      "                precision    recall  f1-score   support\n",
      "\n",
      "     CANDIDATE       0.69      0.59      0.64       601\n",
      "     CONFIRMED       0.82      0.87      0.84       600\n",
      "FALSE POSITIVE       0.89      0.93      0.91      1190\n",
      "\n",
      "      accuracy                           0.83      2391\n",
      "     macro avg       0.80      0.80      0.80      2391\n",
      "  weighted avg       0.82      0.83      0.82      2391\n",
      "\n"
     ]
    }
   ],
   "source": [
    "print(classification_report(test_labels, ada_pred))"
   ]
  },
  {
   "cell_type": "markdown",
   "metadata": {},
   "source": [
    "#### XGBoost"
   ]
  },
  {
   "cell_type": "code",
   "execution_count": 30,
   "metadata": {},
   "outputs": [
    {
     "name": "stdout",
     "output_type": "stream",
     "text": [
      "[15:54:30] WARNING: C:/Users/Administrator/workspace/xgboost-win64_release_1.3.0/src/learner.cc:1061: Starting in XGBoost 1.3.0, the default evaluation metric used with the objective 'multi:softprob' was changed from 'merror' to 'mlogloss'. Explicitly set eval_metric if you'd like to restore the old behavior.\n"
     ]
    }
   ],
   "source": [
    "import xgboost as xgb\n",
    "\n",
    "le = LabelEncoder()\n",
    "train_labels_encoded = le.fit_transform(list(train_labels))\n",
    "test_labels_encoded = le.fit_transform(list(test_labels))\n",
    "                              \n",
    "D_train = xgb.DMatrix(train_features, label=train_labels_encoded)\n",
    "D_test = xgb.DMatrix(test_features, label=test_labels_encoded)\n",
    "\n",
    "param = {\n",
    "    'eta': 0.3, \n",
    "    'max_depth': 3,  \n",
    "    'objective': 'multi:softprob',  \n",
    "    'num_class': 3} \n",
    "\n",
    "steps = 20\n",
    "\n",
    "model = xgb.train(param, D_train, steps)"
   ]
  },
  {
   "cell_type": "code",
   "execution_count": 31,
   "metadata": {},
   "outputs": [
    {
     "name": "stdout",
     "output_type": "stream",
     "text": [
      "Precision = 0.8326061430261088\n",
      "Recall = 0.8211789951698926\n",
      "Accuracy = 0.8523630280217482\n"
     ]
    }
   ],
   "source": [
    "preds = model.predict(D_test)\n",
    "best_preds = np.asarray([np.argmax(line) for line in preds])\n",
    "\n",
    "print(\"Precision = {}\".format(precision_score(test_labels_encoded, best_preds, average='macro')))\n",
    "print(\"Recall = {}\".format(recall_score(test_labels_encoded, best_preds, average='macro')))\n",
    "print(\"Accuracy = {}\".format(accuracy_score(test_labels_encoded, best_preds)))"
   ]
  },
  {
   "cell_type": "code",
   "execution_count": 32,
   "metadata": {},
   "outputs": [
    {
     "ename": "KeyboardInterrupt",
     "evalue": "",
     "output_type": "error",
     "traceback": [
      "\u001b[1;31m---------------------------------------------------------------------------\u001b[0m",
      "\u001b[1;31mKeyboardInterrupt\u001b[0m                         Traceback (most recent call last)",
      "\u001b[1;32m<ipython-input-32-9fbe78c9654c>\u001b[0m in \u001b[0;36m<module>\u001b[1;34m\u001b[0m\n\u001b[0;32m     13\u001b[0m                     cv=3)\n\u001b[0;32m     14\u001b[0m \u001b[1;33m\u001b[0m\u001b[0m\n\u001b[1;32m---> 15\u001b[1;33m \u001b[0mgrid\u001b[0m\u001b[1;33m.\u001b[0m\u001b[0mfit\u001b[0m\u001b[1;33m(\u001b[0m\u001b[0mtrain_features\u001b[0m\u001b[1;33m,\u001b[0m \u001b[0mtrain_labels_encoded\u001b[0m\u001b[1;33m)\u001b[0m\u001b[1;33m\u001b[0m\u001b[1;33m\u001b[0m\u001b[0m\n\u001b[0m",
      "\u001b[1;32md:\\environments\\env\\lib\\site-packages\\sklearn\\utils\\validation.py\u001b[0m in \u001b[0;36minner_f\u001b[1;34m(*args, **kwargs)\u001b[0m\n\u001b[0;32m     61\u001b[0m             \u001b[0mextra_args\u001b[0m \u001b[1;33m=\u001b[0m \u001b[0mlen\u001b[0m\u001b[1;33m(\u001b[0m\u001b[0margs\u001b[0m\u001b[1;33m)\u001b[0m \u001b[1;33m-\u001b[0m \u001b[0mlen\u001b[0m\u001b[1;33m(\u001b[0m\u001b[0mall_args\u001b[0m\u001b[1;33m)\u001b[0m\u001b[1;33m\u001b[0m\u001b[1;33m\u001b[0m\u001b[0m\n\u001b[0;32m     62\u001b[0m             \u001b[1;32mif\u001b[0m \u001b[0mextra_args\u001b[0m \u001b[1;33m<=\u001b[0m \u001b[1;36m0\u001b[0m\u001b[1;33m:\u001b[0m\u001b[1;33m\u001b[0m\u001b[1;33m\u001b[0m\u001b[0m\n\u001b[1;32m---> 63\u001b[1;33m                 \u001b[1;32mreturn\u001b[0m \u001b[0mf\u001b[0m\u001b[1;33m(\u001b[0m\u001b[1;33m*\u001b[0m\u001b[0margs\u001b[0m\u001b[1;33m,\u001b[0m \u001b[1;33m**\u001b[0m\u001b[0mkwargs\u001b[0m\u001b[1;33m)\u001b[0m\u001b[1;33m\u001b[0m\u001b[1;33m\u001b[0m\u001b[0m\n\u001b[0m\u001b[0;32m     64\u001b[0m \u001b[1;33m\u001b[0m\u001b[0m\n\u001b[0;32m     65\u001b[0m             \u001b[1;31m# extra_args > 0\u001b[0m\u001b[1;33m\u001b[0m\u001b[1;33m\u001b[0m\u001b[1;33m\u001b[0m\u001b[0m\n",
      "\u001b[1;32md:\\environments\\env\\lib\\site-packages\\sklearn\\model_selection\\_search.py\u001b[0m in \u001b[0;36mfit\u001b[1;34m(self, X, y, groups, **fit_params)\u001b[0m\n\u001b[0;32m    839\u001b[0m                 \u001b[1;32mreturn\u001b[0m \u001b[0mresults\u001b[0m\u001b[1;33m\u001b[0m\u001b[1;33m\u001b[0m\u001b[0m\n\u001b[0;32m    840\u001b[0m \u001b[1;33m\u001b[0m\u001b[0m\n\u001b[1;32m--> 841\u001b[1;33m             \u001b[0mself\u001b[0m\u001b[1;33m.\u001b[0m\u001b[0m_run_search\u001b[0m\u001b[1;33m(\u001b[0m\u001b[0mevaluate_candidates\u001b[0m\u001b[1;33m)\u001b[0m\u001b[1;33m\u001b[0m\u001b[1;33m\u001b[0m\u001b[0m\n\u001b[0m\u001b[0;32m    842\u001b[0m \u001b[1;33m\u001b[0m\u001b[0m\n\u001b[0;32m    843\u001b[0m             \u001b[1;31m# multimetric is determined here because in the case of a callable\u001b[0m\u001b[1;33m\u001b[0m\u001b[1;33m\u001b[0m\u001b[1;33m\u001b[0m\u001b[0m\n",
      "\u001b[1;32md:\\environments\\env\\lib\\site-packages\\sklearn\\model_selection\\_search.py\u001b[0m in \u001b[0;36m_run_search\u001b[1;34m(self, evaluate_candidates)\u001b[0m\n\u001b[0;32m   1286\u001b[0m     \u001b[1;32mdef\u001b[0m \u001b[0m_run_search\u001b[0m\u001b[1;33m(\u001b[0m\u001b[0mself\u001b[0m\u001b[1;33m,\u001b[0m \u001b[0mevaluate_candidates\u001b[0m\u001b[1;33m)\u001b[0m\u001b[1;33m:\u001b[0m\u001b[1;33m\u001b[0m\u001b[1;33m\u001b[0m\u001b[0m\n\u001b[0;32m   1287\u001b[0m         \u001b[1;34m\"\"\"Search all candidates in param_grid\"\"\"\u001b[0m\u001b[1;33m\u001b[0m\u001b[1;33m\u001b[0m\u001b[0m\n\u001b[1;32m-> 1288\u001b[1;33m         \u001b[0mevaluate_candidates\u001b[0m\u001b[1;33m(\u001b[0m\u001b[0mParameterGrid\u001b[0m\u001b[1;33m(\u001b[0m\u001b[0mself\u001b[0m\u001b[1;33m.\u001b[0m\u001b[0mparam_grid\u001b[0m\u001b[1;33m)\u001b[0m\u001b[1;33m)\u001b[0m\u001b[1;33m\u001b[0m\u001b[1;33m\u001b[0m\u001b[0m\n\u001b[0m\u001b[0;32m   1289\u001b[0m \u001b[1;33m\u001b[0m\u001b[0m\n\u001b[0;32m   1290\u001b[0m \u001b[1;33m\u001b[0m\u001b[0m\n",
      "\u001b[1;32md:\\environments\\env\\lib\\site-packages\\sklearn\\model_selection\\_search.py\u001b[0m in \u001b[0;36mevaluate_candidates\u001b[1;34m(candidate_params, cv, more_results)\u001b[0m\n\u001b[0;32m    793\u001b[0m                               n_splits, n_candidates, n_candidates * n_splits))\n\u001b[0;32m    794\u001b[0m \u001b[1;33m\u001b[0m\u001b[0m\n\u001b[1;32m--> 795\u001b[1;33m                 out = parallel(delayed(_fit_and_score)(clone(base_estimator),\n\u001b[0m\u001b[0;32m    796\u001b[0m                                                        \u001b[0mX\u001b[0m\u001b[1;33m,\u001b[0m \u001b[0my\u001b[0m\u001b[1;33m,\u001b[0m\u001b[1;33m\u001b[0m\u001b[1;33m\u001b[0m\u001b[0m\n\u001b[0;32m    797\u001b[0m                                                        \u001b[0mtrain\u001b[0m\u001b[1;33m=\u001b[0m\u001b[0mtrain\u001b[0m\u001b[1;33m,\u001b[0m \u001b[0mtest\u001b[0m\u001b[1;33m=\u001b[0m\u001b[0mtest\u001b[0m\u001b[1;33m,\u001b[0m\u001b[1;33m\u001b[0m\u001b[1;33m\u001b[0m\u001b[0m\n",
      "\u001b[1;32md:\\environments\\env\\lib\\site-packages\\joblib\\parallel.py\u001b[0m in \u001b[0;36m__call__\u001b[1;34m(self, iterable)\u001b[0m\n\u001b[0;32m   1052\u001b[0m \u001b[1;33m\u001b[0m\u001b[0m\n\u001b[0;32m   1053\u001b[0m             \u001b[1;32mwith\u001b[0m \u001b[0mself\u001b[0m\u001b[1;33m.\u001b[0m\u001b[0m_backend\u001b[0m\u001b[1;33m.\u001b[0m\u001b[0mretrieval_context\u001b[0m\u001b[1;33m(\u001b[0m\u001b[1;33m)\u001b[0m\u001b[1;33m:\u001b[0m\u001b[1;33m\u001b[0m\u001b[1;33m\u001b[0m\u001b[0m\n\u001b[1;32m-> 1054\u001b[1;33m                 \u001b[0mself\u001b[0m\u001b[1;33m.\u001b[0m\u001b[0mretrieve\u001b[0m\u001b[1;33m(\u001b[0m\u001b[1;33m)\u001b[0m\u001b[1;33m\u001b[0m\u001b[1;33m\u001b[0m\u001b[0m\n\u001b[0m\u001b[0;32m   1055\u001b[0m             \u001b[1;31m# Make sure that we get a last message telling us we are done\u001b[0m\u001b[1;33m\u001b[0m\u001b[1;33m\u001b[0m\u001b[1;33m\u001b[0m\u001b[0m\n\u001b[0;32m   1056\u001b[0m             \u001b[0melapsed_time\u001b[0m \u001b[1;33m=\u001b[0m \u001b[0mtime\u001b[0m\u001b[1;33m.\u001b[0m\u001b[0mtime\u001b[0m\u001b[1;33m(\u001b[0m\u001b[1;33m)\u001b[0m \u001b[1;33m-\u001b[0m \u001b[0mself\u001b[0m\u001b[1;33m.\u001b[0m\u001b[0m_start_time\u001b[0m\u001b[1;33m\u001b[0m\u001b[1;33m\u001b[0m\u001b[0m\n",
      "\u001b[1;32md:\\environments\\env\\lib\\site-packages\\joblib\\parallel.py\u001b[0m in \u001b[0;36mretrieve\u001b[1;34m(self)\u001b[0m\n\u001b[0;32m    931\u001b[0m             \u001b[1;32mtry\u001b[0m\u001b[1;33m:\u001b[0m\u001b[1;33m\u001b[0m\u001b[1;33m\u001b[0m\u001b[0m\n\u001b[0;32m    932\u001b[0m                 \u001b[1;32mif\u001b[0m \u001b[0mgetattr\u001b[0m\u001b[1;33m(\u001b[0m\u001b[0mself\u001b[0m\u001b[1;33m.\u001b[0m\u001b[0m_backend\u001b[0m\u001b[1;33m,\u001b[0m \u001b[1;34m'supports_timeout'\u001b[0m\u001b[1;33m,\u001b[0m \u001b[1;32mFalse\u001b[0m\u001b[1;33m)\u001b[0m\u001b[1;33m:\u001b[0m\u001b[1;33m\u001b[0m\u001b[1;33m\u001b[0m\u001b[0m\n\u001b[1;32m--> 933\u001b[1;33m                     \u001b[0mself\u001b[0m\u001b[1;33m.\u001b[0m\u001b[0m_output\u001b[0m\u001b[1;33m.\u001b[0m\u001b[0mextend\u001b[0m\u001b[1;33m(\u001b[0m\u001b[0mjob\u001b[0m\u001b[1;33m.\u001b[0m\u001b[0mget\u001b[0m\u001b[1;33m(\u001b[0m\u001b[0mtimeout\u001b[0m\u001b[1;33m=\u001b[0m\u001b[0mself\u001b[0m\u001b[1;33m.\u001b[0m\u001b[0mtimeout\u001b[0m\u001b[1;33m)\u001b[0m\u001b[1;33m)\u001b[0m\u001b[1;33m\u001b[0m\u001b[1;33m\u001b[0m\u001b[0m\n\u001b[0m\u001b[0;32m    934\u001b[0m                 \u001b[1;32melse\u001b[0m\u001b[1;33m:\u001b[0m\u001b[1;33m\u001b[0m\u001b[1;33m\u001b[0m\u001b[0m\n\u001b[0;32m    935\u001b[0m                     \u001b[0mself\u001b[0m\u001b[1;33m.\u001b[0m\u001b[0m_output\u001b[0m\u001b[1;33m.\u001b[0m\u001b[0mextend\u001b[0m\u001b[1;33m(\u001b[0m\u001b[0mjob\u001b[0m\u001b[1;33m.\u001b[0m\u001b[0mget\u001b[0m\u001b[1;33m(\u001b[0m\u001b[1;33m)\u001b[0m\u001b[1;33m)\u001b[0m\u001b[1;33m\u001b[0m\u001b[1;33m\u001b[0m\u001b[0m\n",
      "\u001b[1;32md:\\environments\\env\\lib\\site-packages\\joblib\\_parallel_backends.py\u001b[0m in \u001b[0;36mwrap_future_result\u001b[1;34m(future, timeout)\u001b[0m\n\u001b[0;32m    540\u001b[0m         AsyncResults.get from multiprocessing.\"\"\"\n\u001b[0;32m    541\u001b[0m         \u001b[1;32mtry\u001b[0m\u001b[1;33m:\u001b[0m\u001b[1;33m\u001b[0m\u001b[1;33m\u001b[0m\u001b[0m\n\u001b[1;32m--> 542\u001b[1;33m             \u001b[1;32mreturn\u001b[0m \u001b[0mfuture\u001b[0m\u001b[1;33m.\u001b[0m\u001b[0mresult\u001b[0m\u001b[1;33m(\u001b[0m\u001b[0mtimeout\u001b[0m\u001b[1;33m=\u001b[0m\u001b[0mtimeout\u001b[0m\u001b[1;33m)\u001b[0m\u001b[1;33m\u001b[0m\u001b[1;33m\u001b[0m\u001b[0m\n\u001b[0m\u001b[0;32m    543\u001b[0m         \u001b[1;32mexcept\u001b[0m \u001b[0mCfTimeoutError\u001b[0m \u001b[1;32mas\u001b[0m \u001b[0me\u001b[0m\u001b[1;33m:\u001b[0m\u001b[1;33m\u001b[0m\u001b[1;33m\u001b[0m\u001b[0m\n\u001b[0;32m    544\u001b[0m             \u001b[1;32mraise\u001b[0m \u001b[0mTimeoutError\u001b[0m \u001b[1;32mfrom\u001b[0m \u001b[0me\u001b[0m\u001b[1;33m\u001b[0m\u001b[1;33m\u001b[0m\u001b[0m\n",
      "\u001b[1;32md:\\Python38\\lib\\concurrent\\futures\\_base.py\u001b[0m in \u001b[0;36mresult\u001b[1;34m(self, timeout)\u001b[0m\n\u001b[0;32m    432\u001b[0m                 \u001b[1;32mreturn\u001b[0m \u001b[0mself\u001b[0m\u001b[1;33m.\u001b[0m\u001b[0m__get_result\u001b[0m\u001b[1;33m(\u001b[0m\u001b[1;33m)\u001b[0m\u001b[1;33m\u001b[0m\u001b[1;33m\u001b[0m\u001b[0m\n\u001b[0;32m    433\u001b[0m \u001b[1;33m\u001b[0m\u001b[0m\n\u001b[1;32m--> 434\u001b[1;33m             \u001b[0mself\u001b[0m\u001b[1;33m.\u001b[0m\u001b[0m_condition\u001b[0m\u001b[1;33m.\u001b[0m\u001b[0mwait\u001b[0m\u001b[1;33m(\u001b[0m\u001b[0mtimeout\u001b[0m\u001b[1;33m)\u001b[0m\u001b[1;33m\u001b[0m\u001b[1;33m\u001b[0m\u001b[0m\n\u001b[0m\u001b[0;32m    435\u001b[0m \u001b[1;33m\u001b[0m\u001b[0m\n\u001b[0;32m    436\u001b[0m             \u001b[1;32mif\u001b[0m \u001b[0mself\u001b[0m\u001b[1;33m.\u001b[0m\u001b[0m_state\u001b[0m \u001b[1;32min\u001b[0m \u001b[1;33m[\u001b[0m\u001b[0mCANCELLED\u001b[0m\u001b[1;33m,\u001b[0m \u001b[0mCANCELLED_AND_NOTIFIED\u001b[0m\u001b[1;33m]\u001b[0m\u001b[1;33m:\u001b[0m\u001b[1;33m\u001b[0m\u001b[1;33m\u001b[0m\u001b[0m\n",
      "\u001b[1;32md:\\Python38\\lib\\threading.py\u001b[0m in \u001b[0;36mwait\u001b[1;34m(self, timeout)\u001b[0m\n\u001b[0;32m    300\u001b[0m         \u001b[1;32mtry\u001b[0m\u001b[1;33m:\u001b[0m    \u001b[1;31m# restore state no matter what (e.g., KeyboardInterrupt)\u001b[0m\u001b[1;33m\u001b[0m\u001b[1;33m\u001b[0m\u001b[0m\n\u001b[0;32m    301\u001b[0m             \u001b[1;32mif\u001b[0m \u001b[0mtimeout\u001b[0m \u001b[1;32mis\u001b[0m \u001b[1;32mNone\u001b[0m\u001b[1;33m:\u001b[0m\u001b[1;33m\u001b[0m\u001b[1;33m\u001b[0m\u001b[0m\n\u001b[1;32m--> 302\u001b[1;33m                 \u001b[0mwaiter\u001b[0m\u001b[1;33m.\u001b[0m\u001b[0macquire\u001b[0m\u001b[1;33m(\u001b[0m\u001b[1;33m)\u001b[0m\u001b[1;33m\u001b[0m\u001b[1;33m\u001b[0m\u001b[0m\n\u001b[0m\u001b[0;32m    303\u001b[0m                 \u001b[0mgotit\u001b[0m \u001b[1;33m=\u001b[0m \u001b[1;32mTrue\u001b[0m\u001b[1;33m\u001b[0m\u001b[1;33m\u001b[0m\u001b[0m\n\u001b[0;32m    304\u001b[0m             \u001b[1;32melse\u001b[0m\u001b[1;33m:\u001b[0m\u001b[1;33m\u001b[0m\u001b[1;33m\u001b[0m\u001b[0m\n",
      "\u001b[1;31mKeyboardInterrupt\u001b[0m: "
     ]
    }
   ],
   "source": [
    "clf = xgb.XGBClassifier()\n",
    "parameters = {\n",
    "     \"eta\"    : [0.05, 0.10, 0.15, 0.20, 0.25, 0.30 ] ,\n",
    "     \"max_depth\"        : [ 3, 4, 5, 6, 8, 10, 12, 15],\n",
    "     \"min_child_weight\" : [ 1, 3, 5, 7 ],\n",
    "     \"gamma\"            : [ 0.0, 0.1, 0.2 , 0.3, 0.4 ],\n",
    "     \"colsample_bytree\" : [ 0.3, 0.4, 0.5 , 0.7 ]\n",
    "     }\n",
    "\n",
    "grid = GridSearchCV(clf,\n",
    "                    parameters, n_jobs=4,\n",
    "                    scoring=\"neg_log_loss\",\n",
    "                    cv=3)\n",
    "\n",
    "grid.fit(train_features, train_labels_encoded)"
   ]
  },
  {
   "cell_type": "code",
   "execution_count": null,
   "metadata": {},
   "outputs": [],
   "source": [
    "preds = model.predict(D_test)\n",
    "best_preds = np.asarray([np.argmax(line) for line in preds])\n",
    "\n",
    "print(\"Precision = {}\".format(precision_score(test_labels_encoded, best_preds, average='macro')))\n",
    "print(\"Recall = {}\".format(recall_score(test_labels_encoded, best_preds, average='macro')))\n",
    "print(\"Accuracy = {}\".format(accuracy_score(test_labels_encoded, best_preds)))"
   ]
  },
  {
   "cell_type": "markdown",
   "metadata": {},
   "source": [
    "### Multi-classification using Keras  \n",
    "\n",
    "<mark>**I did not get this to run, but is definitely something I'd like to revisit once the semester is over.**</mark>"
   ]
  },
  {
   "cell_type": "code",
   "execution_count": null,
   "metadata": {},
   "outputs": [],
   "source": [
    "# Vectorize the labels\n",
    "from keras.utils.np_utils import to_categorical\n",
    "\n",
    "one_hot_train_labels = to_categorical(train_labels)\n",
    "one_hot_test_labels = to_categorical(test_labels)"
   ]
  },
  {
   "cell_type": "code",
   "execution_count": null,
   "metadata": {},
   "outputs": [],
   "source": [
    "# Build and compile a model\n",
    "from keras import models\n",
    "from keras import layers\n",
    "\n",
    "model = models.Sequential()\n",
    "model.add(layers.Dense(64, activation='relu', input_shape=(53,)))\n",
    "model.add(layers.Dense(64, activation='relu'))\n",
    "model.add(layers.Dense(46, activation='softmax'))\n",
    "\n",
    "model.compile(optimizer='rmsprop',\n",
    "              loss='categorical_crossentropy',\n",
    "              metrics=['accuracy'])"
   ]
  },
  {
   "cell_type": "code",
   "execution_count": null,
   "metadata": {},
   "outputs": [],
   "source": [
    "# Train the model\n",
    "history = model.fit(train_features,\n",
    "                    train_labels,\n",
    "                    epochs=20,\n",
    "                    batch_size=512,\n",
    "                    validation_data=(test_features, test_labels))"
   ]
  },
  {
   "cell_type": "code",
   "execution_count": null,
   "metadata": {},
   "outputs": [],
   "source": [
    "results = history.evaluate(test_features, one_hot_test_labels)"
   ]
  },
  {
   "cell_type": "code",
   "execution_count": null,
   "metadata": {},
   "outputs": [],
   "source": [
    "# Plot loss and accuracy curves\n",
    "import matplotlib.pyplot as plt\n",
    "\n",
    "loss = history.history['loss']\n",
    "val_loss = history.history['val_loss']\n",
    "\n",
    "epochs = range(1, len(loss) + 1)\n",
    "\n",
    "plt.plot(epochs, loss, 'bo', label='Training loss')\n",
    "plt.plot(epochs, val_loss, 'b', label='Validation loss')\n",
    "plt.title('Training and validation loss')\n",
    "plt.xlabel('Epochs')\n",
    "plt.ylabel('Loss')\n",
    "plt.legend()\n",
    "\n",
    "plt.show()"
   ]
  },
  {
   "cell_type": "code",
   "execution_count": null,
   "metadata": {},
   "outputs": [],
   "source": [
    "plt.clf()   # clear figure\n",
    "\n",
    "acc = history.history['accuracy']\n",
    "val_acc = history.history['val_accuracy']\n",
    "\n",
    "plt.plot(epochs, acc, 'bo', label='Training acc')\n",
    "plt.plot(epochs, val_acc, 'b', label='Validation acc')\n",
    "plt.title('Training and validation accuracy')\n",
    "plt.xlabel('Epochs')\n",
    "plt.ylabel('Loss')\n",
    "plt.legend()\n",
    "\n",
    "plt.show()"
   ]
  },
  {
   "cell_type": "code",
   "execution_count": null,
   "metadata": {},
   "outputs": [],
   "source": []
  }
 ],
 "metadata": {
  "kernelspec": {
   "display_name": "Python 3",
   "language": "python",
   "name": "python3"
  },
  "language_info": {
   "codemirror_mode": {
    "name": "ipython",
    "version": 3
   },
   "file_extension": ".py",
   "mimetype": "text/x-python",
   "name": "python",
   "nbconvert_exporter": "python",
   "pygments_lexer": "ipython3",
   "version": "3.8.8"
  },
  "toc-autonumbering": false,
  "toc-showcode": true,
  "toc-showmarkdowntxt": false,
  "toc-showtags": false
 },
 "nbformat": 4,
 "nbformat_minor": 4
}
